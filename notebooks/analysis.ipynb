{
 "cells": [
  {
   "cell_type": "code",
   "execution_count": 6,
   "metadata": {},
   "outputs": [],
   "source": [
    "import os\n",
    "import gzip\n",
    "import ujson as json\n",
    "from itertools import islice, takewhile\n",
    "from tqdm import tqdm_notebook as tqdm\n",
    "from collections import Counter, defaultdict\n",
    "import random\n",
    "import json"
   ]
  },
  {
   "cell_type": "code",
   "execution_count": 7,
   "metadata": {},
   "outputs": [],
   "source": [
    "from mimo.evaluate import iter_instance_decodes, evaluate_decodes, get_summary_metrics"
   ]
  },
  {
   "cell_type": "code",
   "execution_count": 8,
   "metadata": {},
   "outputs": [],
   "source": [
    "data_path = '../data/results/mentions/'"
   ]
  },
  {
   "cell_type": "markdown",
   "metadata": {},
   "source": [
    "### Precision Evaluation"
   ]
  },
  {
   "cell_type": "code",
   "execution_count": 14,
   "metadata": {},
   "outputs": [
    {
     "data": {
      "application/vnd.jupyter.widget-view+json": {
       "model_id": "c916bb2479dd4702866d82a0f49a0c8f",
       "version_major": 2,
       "version_minor": 0
      },
      "text/html": [
       "<p>Failed to display Jupyter Widget of type <code>HBox</code>.</p>\n",
       "<p>\n",
       "  If you're reading this message in the Jupyter Notebook or JupyterLab Notebook, it may mean\n",
       "  that the widgets JavaScript is still loading. If this message persists, it\n",
       "  likely means that the widgets JavaScript library is either not installed or\n",
       "  not enabled. See the <a href=\"https://ipywidgets.readthedocs.io/en/stable/user_install.html\">Jupyter\n",
       "  Widgets Documentation</a> for setup instructions.\n",
       "</p>\n",
       "<p>\n",
       "  If you're reading this message in another frontend (for example, a static\n",
       "  rendering on GitHub or <a href=\"https://nbviewer.jupyter.org/\">NBViewer</a>),\n",
       "  it may mean that your frontend doesn't currently support widgets.\n",
       "</p>\n"
      ],
      "text/plain": [
       "HBox(children=(IntProgress(value=1, bar_style='info', max=1), HTML(value='')))"
      ]
     },
     "metadata": {},
     "output_type": "display_data"
    },
    {
     "name": "stdout",
     "output_type": "stream",
     "text": [
      "\n"
     ]
    }
   ],
   "source": [
    "def iter_entity_decodes(path):\n",
    "    with gzip.open(path, 'rt', encoding='utf-8') as f:\n",
    "        for line in tqdm(f):\n",
    "            yield json.loads(line)['decode']\n",
    "\n",
    "metrics = evaluate_decodes(iter_entity_decodes(os.path.join(data_path, 'output.jsonl.gz')))"
   ]
  },
  {
   "cell_type": "code",
   "execution_count": 8,
   "metadata": {},
   "outputs": [],
   "source": [
    "relation_name_map = {\n",
    "    'country of citizenship': 'citizenship',\n",
    "    'member of sports team': 'sports team',\n",
    "    'member of political party': 'political party'\n",
    "}\n",
    "\n",
    "relation_order = ['<'+r.replace(' ', '_')+'>' for r in [\n",
    "    'sex or gender',\n",
    "    'date of birth',\n",
    "    'occupation',\n",
    "    'given name',\n",
    "    'country of citizenship',\n",
    "    'place of birth',\n",
    "    'date of death',\n",
    "    'place of death',\n",
    "    'educated at',\n",
    "    'sport',\n",
    "    'member of sports team',\n",
    "    'position held',\n",
    "    'award received',\n",
    "    'family name',\n",
    "    'participant of',\n",
    "    'member of political party',\n",
    "]]"
   ]
  },
  {
   "cell_type": "code",
   "execution_count": 15,
   "metadata": {},
   "outputs": [
    {
     "name": "stdout",
     "output_type": "stream",
     "text": [
      "\\hline\\hline\n",
      "   \\texttt{sex or gender} & 139,272 & 83.5 & 94.2 & 99.0 \\\\\n",
      "   \\texttt{date of birth} & 118,414 &  0.2 & 75.4 & 80.5 \\\\\n",
      "      \\texttt{occupation} & 111,462 & 11.8 & 69.8 & 88.1 \\\\\n",
      "      \\texttt{given name} & 110,770 &  3.4 & 88.0 & 94.1 \\\\\n",
      "     \\texttt{citizenship} & 102,246 & 28.1 & 89.2 & 94.7 \\\\\n",
      "  \\texttt{place of birth} & 81,324 &  1.5 & 25.7 & 36.9 \\\\\n",
      "   \\texttt{date of death} & 55,610 &  0.1 & 68.3 & 75.4 \\\\\n",
      "  \\texttt{place of death} & 27,618 &  3.8 & 27.8 & 39.2 \\\\\n",
      "     \\texttt{educated at} & 25,633 &  3.7 & 16.3 & 33.0 \\\\\n",
      "           \\texttt{sport} & 23,067 & 56.9 & 87.1 & 98.1 \\\\\n",
      "     \\texttt{sports team} & 21,841 &  0.5 & 17.0 & 31.3 \\\\\n",
      "   \\texttt{position held} & 13,953 &  6.3 & 63.0 & 78.8 \\\\\n",
      "  \\texttt{award received} & 12,196 &  4.6 & 38.8 & 56.6 \\\\\n",
      "     \\texttt{family name} & 11,368 &  4.4 & 61.5 & 70.4 \\\\\n",
      "  \\texttt{participant of} & 11,054 &  6.3 & 44.5 & 81.1 \\\\\n",
      " \\texttt{political party} & 10,409 & 18.3 & 60.6 & 83.8 \\\\\n",
      "\\hline\\hline\n",
      "\\multicolumn{2}{r}{\\texttt{Micro Avg.}} & 20.9 & 70.0 & 79.5 \\\\\n",
      "\\multicolumn{2}{r}{\\texttt{Macro Avg.}} & 14.6 & 58.0 & 71.3 \\\\\n",
      "\\hline\n"
     ]
    }
   ],
   "source": [
    "from collections import defaultdict\n",
    "import numpy\n",
    "\n",
    "\n",
    "def print_latex_evaluation(metrics):\n",
    "    systems = ['base', 'sys@1', 'sys@5']\n",
    "    micro_scores = defaultdict(list)\n",
    "    macro_scores = defaultdict(list)\n",
    "    print('\\\\hline\\\\hline')\n",
    "    for r, system_scores in sorted(metrics.items(), key=lambda kv: relation_order.index(kv[0])):\n",
    "        r_fmt = r.replace('<', '').replace('>', '').replace('_', ' ')\n",
    "        r_fmt = relation_name_map.get(r_fmt, r_fmt)\n",
    "        r_fmt = '\\\\texttt{' + r_fmt + '}'\n",
    "        \n",
    "        report = r_fmt.rjust(25)\n",
    "        \n",
    "        N = len(system_scores[systems[0]])\n",
    "        report += ' & ' + \"{:,}\".format(N).rjust(6)\n",
    "\n",
    "        for s, scores in [(s, system_scores[s]) for s in systems]:\n",
    "            score = numpy.mean(scores)\n",
    "            micro_scores[s].extend(scores)\n",
    "            macro_scores[s].append(score)\n",
    "            report += ' & ' + ('%.1f' % (100 * score)).rjust(4)\n",
    "        print(report + ' \\\\\\\\')\n",
    "    print('\\\\hline\\\\hline')\n",
    "    print('\\\\multicolumn{2}{r}{\\\\texttt{Micro Avg.}}'.rjust(25+9) + ' & ' + ' & '.join(('%.1f' % (100 * numpy.mean(micro_scores[s]))).ljust(4) for s in systems) + ' \\\\\\\\')\n",
    "    print('\\\\multicolumn{2}{r}{\\\\texttt{Macro Avg.}}'.rjust(25+9) + ' & ' + ' & '.join(('%.1f' % (100 * numpy.mean(macro_scores[s]))).ljust(4) for s in systems) + ' \\\\\\\\')\n",
    "    print('\\\\hline')\n",
    "print_latex_evaluation(metrics)"
   ]
  },
  {
   "cell_type": "code",
   "execution_count": null,
   "metadata": {},
   "outputs": [],
   "source": []
  },
  {
   "cell_type": "markdown",
   "metadata": {},
   "source": [
    "### Inspecting model output"
   ]
  },
  {
   "cell_type": "code",
   "execution_count": 9,
   "metadata": {},
   "outputs": [
    {
     "data": {
      "application/vnd.jupyter.widget-view+json": {
       "model_id": "6dc7c9d61c9b42b489b9f3ce03c7dd9a",
       "version_major": 2,
       "version_minor": 0
      },
      "text/html": [
       "<p>Failed to display Jupyter Widget of type <code>HBox</code>.</p>\n",
       "<p>\n",
       "  If you're reading this message in the Jupyter Notebook or JupyterLab Notebook, it may mean\n",
       "  that the widgets JavaScript is still loading. If this message persists, it\n",
       "  likely means that the widgets JavaScript library is either not installed or\n",
       "  not enabled. See the <a href=\"https://ipywidgets.readthedocs.io/en/stable/user_install.html\">Jupyter\n",
       "  Widgets Documentation</a> for setup instructions.\n",
       "</p>\n",
       "<p>\n",
       "  If you're reading this message in another frontend (for example, a static\n",
       "  rendering on GitHub or <a href=\"https://nbviewer.jupyter.org/\">NBViewer</a>),\n",
       "  it may mean that your frontend doesn't currently support widgets.\n",
       "</p>\n"
      ],
      "text/plain": [
       "HBox(children=(IntProgress(value=1, bar_style='info', max=1), HTML(value='')))"
      ]
     },
     "metadata": {},
     "output_type": "display_data"
    },
    {
     "name": "stdout",
     "output_type": "stream",
     "text": [
      "\n"
     ]
    }
   ],
   "source": [
    "instances = {}\n",
    "with gzip.open(os.path.join(data_path, 'output.jsonl.gz'), 'rt', encoding='utf-8') as f:\n",
    "    for line in tqdm(islice(f, 5000)):\n",
    "        obj = json.loads(line)\n",
    "        instances[obj['instance_id']] = obj['decode']"
   ]
  },
  {
   "cell_type": "code",
   "execution_count": 15,
   "metadata": {},
   "outputs": [
    {
     "name": "stdout",
     "output_type": "stream",
     "text": [
      "{\n",
      "  \"sources\": [\n",
      "    \"his highest score came in 1939 when he made an innings of 217 against northumberland , he shared in a minor counties record first-wicket partnership of 323 with | harold theobald | .\"\n",
      "  ],\n",
      "  \"targets\": {\n",
      "    \"<date_of_death>\": \"1982 07 20\",\n",
      "    \"<date_of_birth>\": \"1896 03 18\",\n",
      "    \"<place_of_birth>\": \"norwich\",\n",
      "    \"<sex_or_gender>\": \"male\",\n",
      "    \"<country_of_citizenship>\": \"united kingdom\",\n",
      "    \"<place_of_death>\": \"norwich\",\n",
      "    \"<given_name>\": \"harold\",\n",
      "    \"<occupation>\": \"cricketer\"\n",
      "  },\n",
      "  \"decodes\": {\n",
      "    \"<given_name>\": [\n",
      "      {\n",
      "        \"score\": -0.0072908401,\n",
      "        \"tokens\": [\n",
      "          \"harold\",\n",
      "          \"</s>\"\n",
      "        ],\n",
      "        \"source_id\": 0,\n",
      "        \"decoded\": \"harold\"\n",
      "      }\n",
      "    ],\n",
      "    \"<family_name>\": [\n",
      "      {\n",
      "        \"score\": -0.0005378723,\n",
      "        \"tokens\": [\n",
      "          \"<unk>\",\n",
      "          \"</s>\"\n",
      "        ],\n",
      "        \"source_id\": 0,\n",
      "        \"decoded\": \"<unk>\"\n",
      "      }\n",
      "    ],\n",
      "    \"<sex_or_gender>\": [\n",
      "      {\n",
      "        \"score\": 0.0,\n",
      "        \"tokens\": [\n",
      "          \"male\",\n",
      "          \"</s>\"\n",
      "        ],\n",
      "        \"source_id\": 0,\n",
      "        \"decoded\": \"male\"\n",
      "      }\n",
      "    ],\n",
      "    \"<date_of_birth>\": [\n",
      "      {\n",
      "        \"score\": -3.923664093,\n",
      "        \"tokens\": [\n",
      "          \"1912\",\n",
      "          \"01\",\n",
      "          \"01\",\n",
      "          \"</s>\"\n",
      "        ],\n",
      "        \"source_id\": 0,\n",
      "        \"decoded\": \"1912 01 01\"\n",
      "      }\n",
      "    ],\n",
      "    \"<occupation>\": [\n",
      "      {\n",
      "        \"score\": -0.0610628128,\n",
      "        \"tokens\": [\n",
      "          \"cricketer\",\n",
      "          \"</s>\"\n",
      "        ],\n",
      "        \"source_id\": 0,\n",
      "        \"decoded\": \"cricketer\"\n",
      "      }\n",
      "    ],\n",
      "    \"<country_of_citizenship>\": [\n",
      "      {\n",
      "        \"score\": -0.3711585999,\n",
      "        \"tokens\": [\n",
      "          \"united\",\n",
      "          \"kingdom\",\n",
      "          \"</s>\"\n",
      "        ],\n",
      "        \"source_id\": 0,\n",
      "        \"decoded\": \"united kingdom\"\n",
      "      }\n",
      "    ],\n",
      "    \"<sport>\": [\n",
      "      {\n",
      "        \"score\": -0.1953792572,\n",
      "        \"tokens\": [\n",
      "          \"athletics\",\n",
      "          \"</s>\"\n",
      "        ],\n",
      "        \"source_id\": 0,\n",
      "        \"decoded\": \"athletics\"\n",
      "      }\n",
      "    ],\n",
      "    \"<date_of_death>\": [\n",
      "      {\n",
      "        \"score\": -4.4913721085,\n",
      "        \"tokens\": [\n",
      "          \"1960\",\n",
      "          \"01\",\n",
      "          \"01\",\n",
      "          \"</s>\"\n",
      "        ],\n",
      "        \"source_id\": 0,\n",
      "        \"decoded\": \"1960 01 01\"\n",
      "      }\n",
      "    ],\n",
      "    \"<place_of_birth>\": [\n",
      "      {\n",
      "        \"score\": -4.8144302368,\n",
      "        \"tokens\": [\n",
      "          \"chicago\",\n",
      "          \"</s>\"\n",
      "        ],\n",
      "        \"source_id\": 0,\n",
      "        \"decoded\": \"chicago\"\n",
      "      }\n",
      "    ],\n",
      "    \"<educated_at>\": [\n",
      "      {\n",
      "        \"score\": -2.8010969162,\n",
      "        \"tokens\": [\n",
      "          \"eton\",\n",
      "          \"college\",\n",
      "          \"</s>\"\n",
      "        ],\n",
      "        \"source_id\": 0,\n",
      "        \"decoded\": \"eton college\"\n",
      "      }\n",
      "    ],\n",
      "    \"<member_of_sports_team>\": [\n",
      "      {\n",
      "        \"score\": -3.5370111465,\n",
      "        \"tokens\": [\n",
      "          \"kolkata\",\n",
      "          \"knight\",\n",
      "          \"riders\",\n",
      "          \"</s>\"\n",
      "        ],\n",
      "        \"source_id\": 0,\n",
      "        \"decoded\": \"kolkata knight riders\"\n",
      "      }\n",
      "    ],\n",
      "    \"<place_of_death>\": [\n",
      "      {\n",
      "        \"score\": -2.4424953461,\n",
      "        \"tokens\": [\n",
      "          \"london\",\n",
      "          \"</s>\"\n",
      "        ],\n",
      "        \"source_id\": 0,\n",
      "        \"decoded\": \"london\"\n",
      "      }\n",
      "    ],\n",
      "    \"<position_held>\": [\n",
      "      {\n",
      "        \"score\": -0.9836673737,\n",
      "        \"tokens\": [\n",
      "          \"member\",\n",
      "          \"of\",\n",
      "          \"parliament\",\n",
      "          \"in\",\n",
      "          \"the\",\n",
      "          \"united\",\n",
      "          \"kingdom\",\n",
      "          \"</s>\"\n",
      "        ],\n",
      "        \"source_id\": 0,\n",
      "        \"decoded\": \"member of parliament in the united kingdom\"\n",
      "      }\n",
      "    ],\n",
      "    \"<participant_of>\": [\n",
      "      {\n",
      "        \"score\": -0.7339658737,\n",
      "        \"tokens\": [\n",
      "          \"1948\",\n",
      "          \"summer\",\n",
      "          \"olympics\",\n",
      "          \"</s>\"\n",
      "        ],\n",
      "        \"source_id\": 0,\n",
      "        \"decoded\": \"1948 summer olympics\"\n",
      "      }\n",
      "    ],\n",
      "    \"<member_of_political_party>\": [\n",
      "      {\n",
      "        \"score\": -0.8230638504,\n",
      "        \"tokens\": [\n",
      "          \"republican\",\n",
      "          \"party\",\n",
      "          \"</s>\"\n",
      "        ],\n",
      "        \"source_id\": 0,\n",
      "        \"decoded\": \"republican party\"\n",
      "      }\n",
      "    ],\n",
      "    \"<award_received>\": [\n",
      "      {\n",
      "        \"score\": -0.4960975647,\n",
      "        \"tokens\": [\n",
      "          \"wisden\",\n",
      "          \"cricketer\",\n",
      "          \"of\",\n",
      "          \"the\",\n",
      "          \"year\",\n",
      "          \"</s>\"\n",
      "        ],\n",
      "        \"source_id\": 0,\n",
      "        \"decoded\": \"wisden cricketer of the year\"\n",
      "      }\n",
      "    ]\n",
      "  }\n",
      "}\n"
     ]
    }
   ],
   "source": [
    "instance = next(iter(instances.values()))\n",
    "instance = dict(instance)\n",
    "instance['decodes'] = {r: v[:1] for r, v in instance['decodes'].items()}\n",
    "print(json.dumps(instance, indent=2))"
   ]
  },
  {
   "cell_type": "markdown",
   "metadata": {},
   "source": [
    "### Sampling Generated Output"
   ]
  },
  {
   "cell_type": "code",
   "execution_count": 10,
   "metadata": {},
   "outputs": [
    {
     "name": "stdout",
     "output_type": "stream",
     "text": [
      "{\\small in a minor counties record first-wicket partnership of 323 with | harold theobald | .}\n"
     ]
    }
   ],
   "source": [
    "def format_source(source):\n",
    "    if source.count('|') != 2 or len(source) < 30:\n",
    "        return None\n",
    "\n",
    "    tokens = source.split()\n",
    "    span_left = tokens.index('|')\n",
    "    span_right = len(tokens) - tokens[::-1].index('|')\n",
    "    span = tokens[span_left:span_right]\n",
    "    left = tokens[:span_left]\n",
    "    right = tokens[span_right:]\n",
    "    \n",
    "    max_window_sz = 10\n",
    "    \n",
    "    output = '{\\\\small ' + ' '.join(left[-max_window_sz:]) + ' '\n",
    "    output += ''+ ' '.join(span) + ' '\n",
    "    output += '' + ' '.join(right[:max_window_sz]) + '}'\n",
    "\n",
    "    return output\n",
    "\n",
    "print(format_source(instance['sources'][0]))\n",
    "#for left, span, right in random.sample(elon['mentions'], 5):\n",
    "#    print '{\\\\small ...', ' '.join(left[-5:]), '} &', '\\\\textttt{'+ ' '.join(span) + '}', '& {\\\\small', ' '.join(right[:5]), '...} \\\\\\\\'"
   ]
  },
  {
   "cell_type": "code",
   "execution_count": 7,
   "metadata": {},
   "outputs": [],
   "source": [
    "rels = [\n",
    "    '<given_name>',\n",
    "    '<occupation>',\n",
    "    '<country_of_citizenship>',\n",
    "    '<sex_or_gender>',\n",
    "    '<date_of_birth>'\n",
    "]"
   ]
  },
  {
   "cell_type": "code",
   "execution_count": 12,
   "metadata": {},
   "outputs": [
    {
     "name": "stdout",
     "output_type": "stream",
     "text": [
      "\\hline\n",
      "\\textbf{Harold Theobald}\n",
      " & harold & cricketer & united kingdom & male & 1896 03 18 \\\\\n",
      "\\hline\n",
      "\\hline\n",
      "{\\small in a minor counties record first-wicket partnership of 323 with | harold theobald | .} & harold & cricketer & united kingdom & male & 1912 01 01\\\\\n",
      "\\hline\n",
      "\\hline\n",
      "\\textbf{Dan Hardy}\n",
      " & dan & thai boxer & united kingdom & male & 1982 05 17 \\\\\n",
      "\\hline\n",
      "\\hline\n",
      "{\\small ludwig fought | dan hardy | on may 26 , 2012 , at ufc 146 .} & \\textcolor[HTML]{777777}{dan} & \\textcolor[HTML]{777777}{mixed martial artist} & \\textcolor[HTML]{777777}{united states of america} & male & 1985 01 01\\\\\n",
      "\\hline\n",
      "{\\small first mma events , the ksbo , where they met | dan hardy | and coach nathan leverton .} & \\textcolor[HTML]{777777}{dan} & \\textcolor[HTML]{777777}{association football player} & \\textcolor[HTML]{777777}{united states of america} & \\textcolor[HTML]{777777}{male} & \\textcolor[HTML]{777777}{1976 01 01}\\\\\n",
      "\\hline\n",
      "{\\small he was scheduled to fight | dan hardy | on november 14 , 2009 at ufc 105 , but} & \\textcolor[HTML]{777777}{dan} & mixed martial artist & \\textcolor[HTML]{777777}{united states of america} & \\textcolor[HTML]{777777}{male} & \\textcolor[HTML]{777777}{1983 01 01}\\\\\n",
      "\\hline\n",
      "{\\small fights before going on a three fight losing streak against | dan hardy | , brandon wolff and tj grant .} & \\textcolor[HTML]{777777}{dan} & \\textcolor[HTML]{777777}{mixed martial artist} & united states of america & \\textcolor[HTML]{777777}{male} & \\textcolor[HTML]{777777}{1983 01 01}\\\\\n",
      "\\hline\n",
      "{\\small in his post fight interview , he called out | dan hardy | , the \\# 1 contender in the welterweight division .} & dan & \\textcolor[HTML]{777777}{boxer} & \\textcolor[HTML]{777777}{united states of america} & \\textcolor[HTML]{777777}{male} & \\textcolor[HTML]{777777}{1978 01 01}\\\\\n",
      "\\hline\n",
      "\\hline\n",
      "\\textbf{Vladimir Ryzhenkov}\n",
      " & wladimir & weightlifter & russia & male & 1948 08 27 \\\\\n",
      "\\hline\n",
      "\\hline\n",
      "{\\small also in 1993 , | vladimir ryzhenkov | , who was at the time the belarus minister for} & vladimir & politician & russia & male & 1952 01 01\\\\\n",
      "\\hline\n",
      "\\hline\n",
      "\\textbf{Pamela Munro}\n",
      " & pamela & linguist & united states of america & female & 1947 05 23 \\\\\n",
      "\\hline\n",
      "\\hline\n",
      "{\\small among her students at ucsd were linguists | pamela munro | , leanne hinton , cheryl hinton , steve elster ,} & \\textcolor[HTML]{777777}{pamela} & \\textcolor[HTML]{777777}{pianist} & united states of america & \\textcolor[HTML]{777777}{female} & \\textcolor[HTML]{777777}{1952 01 01}\\\\\n",
      "\\hline\n",
      "{\\small a more recent and controversial classification has been proposed by | pamela munro | .} & \\textcolor[HTML]{777777}{pamela} & \\textcolor[HTML]{777777}{anthropologist} & \\textcolor[HTML]{777777}{united states of america} & \\textcolor[HTML]{777777}{male} & 1959 01 01\\\\\n",
      "\\hline\n",
      "{\\small by shaterian and an in process dictionary and grammar by | pamela munro | .} & \\textcolor[HTML]{777777}{pamela} & \\textcolor[HTML]{777777}{anthropologist} & \\textcolor[HTML]{777777}{united states of america} & male & \\textcolor[HTML]{777777}{1941 01 01}\\\\\n",
      "\\hline\n",
      "{\\small to the other languages is uncertain ; mary haas and | pamela munro | both classify it with the alabama–koasati group .} & pamela & \\textcolor[HTML]{777777}{philosopher} & \\textcolor[HTML]{777777}{united states of america} & \\textcolor[HTML]{777777}{male} & \\textcolor[HTML]{777777}{1952 01 01}\\\\\n",
      "\\hline\n",
      "{\\small in 2000 , linguist | pamela munro | argued that nicoleño was part of the cupan subgroup of} & \\textcolor[HTML]{777777}{pamela} & linguist & \\textcolor[HTML]{777777}{united states of america} & \\textcolor[HTML]{777777}{male} & \\textcolor[HTML]{777777}{1947 01 01}\\\\\n",
      "\\hline\n"
     ]
    }
   ],
   "source": [
    "from collections import Counter\n",
    "exclude = {\n",
    "    'Ron Finley (American football)',\n",
    "    'Roger Sherman',\n",
    "    'Alison Smale',\n",
    "    'Abigail Mejia',\n",
    "    'Chris Bingham',\n",
    "    'Eudoxia Lopukhina',\n",
    "    'Mary Dickens',\n",
    "    'Thomas W. Lawson (businessman)',\n",
    "    'Rosalind Brewer',\n",
    "    'Savanna Samson',\n",
    "    'Alex Hicks',\n",
    "    'Austin Codrington',\n",
    "    'Horatio Earle'\n",
    "}\n",
    "count = 0\n",
    "male_count = 0\n",
    "gender_counts = Counter()\n",
    "citizenship_counts = Counter()\n",
    "for entity_id, instance in islice(instances.items(), 200):\n",
    "    sources = instance['sources']\n",
    "    target_relations = instance['targets']\n",
    "\n",
    "    decodes_by_rsi = {\n",
    "        r:{\n",
    "            si: [d for d in instance['decodes'][r] if d['source_id'] == si]\n",
    "            for si in range(len(sources))\n",
    "        } for r in rels\n",
    "    }\n",
    "    decode_ranks_by_rsi = {r:{\n",
    "            si: instance['decodes'][r].index(decodes_by_rsi[r][si][0])\n",
    "            for si in range(len(sources))\n",
    "        } for r in rels\n",
    "    }\n",
    "    si_ranks_by_r = {\n",
    "        r:\n",
    "        sorted(range(len(sources)), key=lambda si: instance['decodes'][r].index(decodes_by_rsi[r][si][0]))\n",
    "        for r in rels\n",
    "    }\n",
    "    \n",
    "    male = decodes_by_rsi['<sex_or_gender>'][0][0]['tokens'][0] == 'male'\n",
    "    \n",
    "    if entity_id in exclude or any(format_source(s) is None for s in sources):\n",
    "        continue\n",
    "    if gender_counts['male'] >= 3 and male:\n",
    "        continue\n",
    "    if citizenship_counts[target_relations.get('<country_of_citizenship>')] == 1 and target_relations['<country_of_citizenship>'] == 'united states of america':\n",
    "        continue\n",
    "    if count >= 4:\n",
    "        break\n",
    "    count += 1\n",
    "    gender_counts[target_relations['<sex_or_gender>']] += 1\n",
    "    citizenship_counts[target_relations.get('<country_of_citizenship>')] += 1\n",
    "    \n",
    "    print('\\\\hline')\n",
    "    print('\\\\textbf{'+ entity_id + '}')\n",
    "    row = ''\n",
    "    for r in rels:\n",
    "        row += ' & ' + target_relations.get(r, '\\\\texttt{nil}')\n",
    "    row += ' \\\\\\\\'\n",
    "    print(row)\n",
    "    print('\\\\hline')\n",
    "    print('\\\\hline')\n",
    "\n",
    "    \n",
    "    \n",
    "    for si, s in enumerate(sources):\n",
    "        result = format_source(s)\n",
    "        \n",
    "        for r in rels:\n",
    "            #target = target_relations.get(relation)=\n",
    "            \n",
    "            decodes = decodes_by_rsi[r][si]\n",
    "            rank = si_ranks_by_r[r].index(si)\n",
    "            \n",
    "            system = ' '.join(takewhile(lambda t: t != '</s>', decodes[0]['tokens']))\n",
    "            if rank != 0:\n",
    "                system = '\\\\textcolor[HTML]{777777}{' + system + '}'\n",
    "\n",
    "            result += ' & ' + system # + ':' + str(si_ranks_by_r[r].index(si))\n",
    "        result = result.replace('#', '\\\\#')\n",
    "        result += '\\\\\\\\'\n",
    "        print(result)\n",
    "        print('\\\\hline')"
   ]
  },
  {
   "cell_type": "code",
   "execution_count": 4,
   "metadata": {},
   "outputs": [
    {
     "name": "stdout",
     "output_type": "stream",
     "text": [
      "=========================================================================\n",
      "                      Relation | base    sys@1   sys@2   sys@5   sys@10  \n",
      "=========================================================================\n",
      "               <date_of_death> | 0.0     0.0     0.0     0.2     0.2     \n",
      "               <date_of_birth> | 0.6     0.2     0.8     1.5     1.5     \n",
      "              <place_of_birth> | 2.1     6.5     9.6     15.9    15.9    \n",
      "               <sex_or_gender> | 82.5    90.1    95.9    96.4    96.4    \n",
      "      <country_of_citizenship> | 30.4    58.9    67.7    78.5    78.5    \n",
      "              <place_of_death> | 3.4     14.3    21.1    28.7    28.7    \n",
      "                  <given_name> | 2.6     81.0    84.2    85.9    85.9    \n",
      "                  <occupation> | 12.5    46.7    56.9    70.7    70.7    \n",
      "                 <educated_at> | 2.8     12.2    16.4    22.5    22.5    \n",
      "              <participant_of> | 7.2     20.3    24.6    31.9    31.9    \n",
      "                       <sport> | 46.1    60.2    64.8    81.2    81.2    \n",
      "       <member_of_sports_team> | 0.0     7.3     11.0    14.7    14.7    \n",
      "   <member_of_political_party> | 17.9    44.9    62.8    70.5    70.5    \n",
      "               <position_held> | 6.9     35.3    44.1    53.9    53.9    \n",
      "              <award_received> | 7.3     23.6    25.2    29.3    29.3    \n",
      "                 <family_name> | 2.1     0.0     0.0     0.0     0.0     \n",
      "_________________________________________________________________________\n",
      "                         Micro | 20.1    41.7    46.7    52.0    52.0    \n",
      "                         Macro | 14.0    31.3    36.6    42.6    42.6    \n"
     ]
    }
   ],
   "source": [
    "print_evaluation(metrics)"
   ]
  },
  {
   "cell_type": "code",
   "execution_count": 20,
   "metadata": {},
   "outputs": [
    {
     "data": {
      "application/vnd.jupyter.widget-view+json": {
       "model_id": "897402d329c44b1ab763400759002da4",
       "version_major": 2,
       "version_minor": 0
      },
      "text/html": [
       "<p>Failed to display Jupyter Widget of type <code>HBox</code>.</p>\n",
       "<p>\n",
       "  If you're reading this message in the Jupyter Notebook or JupyterLab Notebook, it may mean\n",
       "  that the widgets JavaScript is still loading. If this message persists, it\n",
       "  likely means that the widgets JavaScript library is either not installed or\n",
       "  not enabled. See the <a href=\"https://ipywidgets.readthedocs.io/en/stable/user_install.html\">Jupyter\n",
       "  Widgets Documentation</a> for setup instructions.\n",
       "</p>\n",
       "<p>\n",
       "  If you're reading this message in another frontend (for example, a static\n",
       "  rendering on GitHub or <a href=\"https://nbviewer.jupyter.org/\">NBViewer</a>),\n",
       "  it may mean that your frontend doesn't currently support widgets.\n",
       "</p>\n"
      ],
      "text/plain": [
       "HBox(children=(IntProgress(value=1, bar_style='info', max=1), HTML(value='')))"
      ]
     },
     "metadata": {},
     "output_type": "display_data"
    },
    {
     "name": "stdout",
     "output_type": "stream",
     "text": [
      "\n"
     ]
    }
   ],
   "source": [
    "from collections import Counter\n",
    "\n",
    "items = []\n",
    "with gzip.open(os.path.join(data_path, 'output.jsonl.gz'), 'rt', encoding='utf-8') as f:\n",
    "    for line in tqdm(f):\n",
    "        obj = json.loads(line)\n",
    "        source = random.choice(obj['decode']['sources'])\n",
    "        for relation, target in obj['decode']['targets'].items():\n",
    "            if relation_order.index(relation) < 5:\n",
    "                system = obj['decode']['decodes'][relation][0]['decoded']\n",
    "                score = obj['decode']['decodes'][relation][0]['score']\n",
    "                items.append((obj['instance_id'], source, relation, target, system, score))\n",
    "\n",
    "random.seed(1447)\n",
    "random.shuffle(items)"
   ]
  },
  {
   "cell_type": "markdown",
   "metadata": {},
   "source": [
    "### Date of birth Inference Analysis"
   ]
  },
  {
   "cell_type": "code",
   "execution_count": 41,
   "metadata": {},
   "outputs": [
    {
     "data": {
      "text/plain": [
       "(0.7794332946062653, 0.0)"
      ]
     },
     "execution_count": 41,
     "metadata": {},
     "output_type": "execute_result"
    }
   ],
   "source": [
    "target_years = []\n",
    "system_years = []\n",
    "for entity, source, relation, target, system, score in items:\n",
    "    if relation == '<date_of_birth>' and system.split()[0].isdigit() and target.split()[0].isdigit():\n",
    "        target_years.append(int(target.split()[0]))\n",
    "        system_years.append(int(system.split()[0]))\n",
    "from scipy.stats import pearsonr\n",
    "pearsonr(target_years, system_years)"
   ]
  },
  {
   "cell_type": "code",
   "execution_count": 48,
   "metadata": {},
   "outputs": [
    {
     "data": {
      "text/plain": [
       "12.0"
      ]
     },
     "execution_count": 48,
     "metadata": {},
     "output_type": "execute_result"
    }
   ],
   "source": [
    "import numpy\n",
    "numpy.median(numpy.abs(numpy.array(target_years) - numpy.array(system_years)))"
   ]
  },
  {
   "cell_type": "markdown",
   "metadata": {},
   "source": [
    "## Explicitness Annotation"
   ]
  },
  {
   "cell_type": "code",
   "execution_count": 103,
   "metadata": {},
   "outputs": [],
   "source": [
    "import ipywidgets as widgets\n",
    "from IPython.display import display\n",
    "from ipywidgets import interact, interactive, fixed, interact_manual\n",
    "from ipywidgets import Layout\n",
    "from time import time"
   ]
  },
  {
   "cell_type": "code",
   "execution_count": 113,
   "metadata": {},
   "outputs": [
    {
     "data": {
      "text/plain": [
       "('Pending', 1)"
      ]
     },
     "execution_count": 113,
     "metadata": {},
     "output_type": "execute_result"
    }
   ],
   "source": [
    "NUM_SAMPLES = 250\n",
    "MAX_SAMPLES_PER_RELATION = NUM_SAMPLES/5\n",
    "\n",
    "def iter_samples(samples, max_per_relation, exclude_ids, relation_counts):\n",
    "    for entity, source, relation, target, system, score in samples:\n",
    "        if relation_counts[relation] >= max_per_relation:\n",
    "            continue\n",
    "        iid = entity + ':' + relation\n",
    "        if iid not in exclude_ids:\n",
    "            yield {\n",
    "                'id': iid,\n",
    "                'entity': entity,\n",
    "                'relation': relation,\n",
    "                'source': source,\n",
    "                'target': target,\n",
    "            }\n",
    "            relation_counts[relation] += 1\n",
    "\n",
    "annotations_path = os.path.join(data_path, 'annotations.jsonl')\n",
    "annotated_item_ids = set()\n",
    "relation_counts = Counter()\n",
    "with open(annotations_path, 'r') as f:\n",
    "    for line in f:\n",
    "        annotation = json.loads(line)\n",
    "        annotated_item_ids.add(annotation['item']['id'])\n",
    "        if annotation['annotation']['decision'] != 'error':\n",
    "            relation_counts[annotation['item']['relation']] += 1\n",
    "\n",
    "pending = list(iter_samples(items, MAX_SAMPLES_PER_RELATION, annotated_item_ids, relation_counts))\n",
    "state = {\n",
    "    'item': None\n",
    "}\n",
    "\n",
    "'Pending', len(pending)"
   ]
  },
  {
   "cell_type": "code",
   "execution_count": 114,
   "metadata": {},
   "outputs": [
    {
     "data": {
      "application/vnd.jupyter.widget-view+json": {
       "model_id": "55bc3984db534b1782ce8b7961b95062",
       "version_major": 2,
       "version_minor": 0
      },
      "text/html": [
       "<p>Failed to display Jupyter Widget of type <code>VBox</code>.</p>\n",
       "<p>\n",
       "  If you're reading this message in the Jupyter Notebook or JupyterLab Notebook, it may mean\n",
       "  that the widgets JavaScript is still loading. If this message persists, it\n",
       "  likely means that the widgets JavaScript library is either not installed or\n",
       "  not enabled. See the <a href=\"https://ipywidgets.readthedocs.io/en/stable/user_install.html\">Jupyter\n",
       "  Widgets Documentation</a> for setup instructions.\n",
       "</p>\n",
       "<p>\n",
       "  If you're reading this message in another frontend (for example, a static\n",
       "  rendering on GitHub or <a href=\"https://nbviewer.jupyter.org/\">NBViewer</a>),\n",
       "  it may mean that your frontend doesn't currently support widgets.\n",
       "</p>\n"
      ],
      "text/plain": [
       "VBox(children=(HTML(value=''), HTML(value='', layout=Layout(width='50%')), HTML(value='', layout=Layout(width='50%'))), layout=Layout(width='100%'))"
      ]
     },
     "metadata": {},
     "output_type": "display_data"
    },
    {
     "data": {
      "application/vnd.jupyter.widget-view+json": {
       "model_id": "4fc809c5acf7480da5172ad0244ba6ec",
       "version_major": 2,
       "version_minor": 0
      },
      "text/html": [
       "<p>Failed to display Jupyter Widget of type <code>Checkbox</code>.</p>\n",
       "<p>\n",
       "  If you're reading this message in the Jupyter Notebook or JupyterLab Notebook, it may mean\n",
       "  that the widgets JavaScript is still loading. If this message persists, it\n",
       "  likely means that the widgets JavaScript library is either not installed or\n",
       "  not enabled. See the <a href=\"https://ipywidgets.readthedocs.io/en/stable/user_install.html\">Jupyter\n",
       "  Widgets Documentation</a> for setup instructions.\n",
       "</p>\n",
       "<p>\n",
       "  If you're reading this message in another frontend (for example, a static\n",
       "  rendering on GitHub or <a href=\"https://nbviewer.jupyter.org/\">NBViewer</a>),\n",
       "  it may mean that your frontend doesn't currently support widgets.\n",
       "</p>\n"
      ],
      "text/plain": [
       "Checkbox(value=False, description='Interesting?')"
      ]
     },
     "metadata": {},
     "output_type": "display_data"
    },
    {
     "data": {
      "application/vnd.jupyter.widget-view+json": {
       "model_id": "304bcd0680434e469ffd15879450a044",
       "version_major": 2,
       "version_minor": 0
      },
      "text/html": [
       "<p>Failed to display Jupyter Widget of type <code>ToggleButtons</code>.</p>\n",
       "<p>\n",
       "  If you're reading this message in the Jupyter Notebook or JupyterLab Notebook, it may mean\n",
       "  that the widgets JavaScript is still loading. If this message persists, it\n",
       "  likely means that the widgets JavaScript library is either not installed or\n",
       "  not enabled. See the <a href=\"https://ipywidgets.readthedocs.io/en/stable/user_install.html\">Jupyter\n",
       "  Widgets Documentation</a> for setup instructions.\n",
       "</p>\n",
       "<p>\n",
       "  If you're reading this message in another frontend (for example, a static\n",
       "  rendering on GitHub or <a href=\"https://nbviewer.jupyter.org/\">NBViewer</a>),\n",
       "  it may mean that your frontend doesn't currently support widgets.\n",
       "</p>\n"
      ],
      "text/plain": [
       "ToggleButtons(description='Inference:', options=('Explicit', 'Justified', 'Guessable', 'Not Justified', 'Error'), tooltips=['', '', ''], value='Explicit')"
      ]
     },
     "metadata": {},
     "output_type": "display_data"
    },
    {
     "data": {
      "application/vnd.jupyter.widget-view+json": {
       "model_id": "898530aba81647068d2c4a8bbb120e95",
       "version_major": 2,
       "version_minor": 0
      },
      "text/html": [
       "<p>Failed to display Jupyter Widget of type <code>HBox</code>.</p>\n",
       "<p>\n",
       "  If you're reading this message in the Jupyter Notebook or JupyterLab Notebook, it may mean\n",
       "  that the widgets JavaScript is still loading. If this message persists, it\n",
       "  likely means that the widgets JavaScript library is either not installed or\n",
       "  not enabled. See the <a href=\"https://ipywidgets.readthedocs.io/en/stable/user_install.html\">Jupyter\n",
       "  Widgets Documentation</a> for setup instructions.\n",
       "</p>\n",
       "<p>\n",
       "  If you're reading this message in another frontend (for example, a static\n",
       "  rendering on GitHub or <a href=\"https://nbviewer.jupyter.org/\">NBViewer</a>),\n",
       "  it may mean that your frontend doesn't currently support widgets.\n",
       "</p>\n"
      ],
      "text/plain": [
       "HBox(children=(IntProgress(value=0, description='Progress:', max=278), HTML(value='')))"
      ]
     },
     "metadata": {},
     "output_type": "display_data"
    }
   ],
   "source": [
    "text_source = widgets.HTML()\n",
    "text_target = widgets.HTML(layout=Layout(width='50%'))\n",
    "text_relation = widgets.HTML(layout=Layout(width='50%'))\n",
    "chk_interesting = widgets.Checkbox(value=False, description='Interesting?', disabled=False)\n",
    "\n",
    "btn_decision = widgets.ToggleButtons(\n",
    "    options=['Explicit', 'Justified', 'Guessable', 'Not Justified', 'Error'],\n",
    "    description='Inference:',\n",
    "    disabled=False,\n",
    "    button_style='',\n",
    "    tooltips=['', '', ''],\n",
    ")\n",
    "\n",
    "progress_text = widgets.HTML()\n",
    "progress_bar = widgets.IntProgress(\n",
    "    min=0,\n",
    "    max=len(annotated_item_ids)+len(pending),\n",
    "    step=1,\n",
    "    description='Progress:',\n",
    "    bar_style='', # 'success', 'info', 'warning', 'danger' or ''\n",
    "    orientation='horizontal'\n",
    ")\n",
    "\n",
    "display(widgets.VBox([\n",
    "    text_source,\n",
    "    text_relation,\n",
    "    text_target\n",
    "], layout=Layout(width='100%')))\n",
    "display(chk_interesting)\n",
    "display(btn_decision)\n",
    "display(widgets.HBox([progress_bar, progress_text]))\n",
    "\n",
    "def update():\n",
    "    item = state['item']\n",
    "    \n",
    "    chk_interesting.value = False\n",
    "    btn_decision.value = None\n",
    "    if item:\n",
    "        text_source.value = \"\"\"\n",
    "            <div style='margin:10px; padding: 20px;background: #eee'>\"\"\" + item['source']  + \"\"\"</div>\n",
    "        \"\"\"\n",
    "        rel_fmt = item['relation'].replace('<', '').replace('>', '').replace('_', ' ').title()\n",
    "        text_relation.value = \"\"\"\n",
    "            <b>\"\"\" + rel_fmt + \"\"\"</b>: \\\"\"\"\" + item['target'] + \"\"\"\\\"\n",
    "        \"\"\"\n",
    "    else:\n",
    "        text_source.value = 'Nothing left to annotated!'\n",
    "        text_relation.value=text_target.value=''\n",
    "\n",
    "    num_completed = len(annotated_item_ids)\n",
    "    progress_text.value = '[%d / %d] ' % (num_completed, num_completed+len(pending))\n",
    "    progress_bar.value = num_completed\n",
    "\n",
    "def get_next_item(state):\n",
    "    if pending:\n",
    "        return pending[0]\n",
    "\n",
    "def commit():\n",
    "    with open(annotations_path, 'a+') as f:\n",
    "        f.write(json.dumps({\n",
    "            'time': time(),\n",
    "            'item': state['item'],\n",
    "            'annotation': {\n",
    "                'interesting': chk_interesting.value,\n",
    "                'decision': btn_decision.value.lower()\n",
    "            }\n",
    "        }) + '\\n')\n",
    "        annotated_item_ids.add(state['item']['id'])\n",
    "\n",
    "    pending.pop(0)\n",
    "\n",
    "def transition():\n",
    "    state['item'] = get_next_item(state)\n",
    "    if not state['item']:\n",
    "        btn_decision.disabled=True\n",
    "    update()\n",
    "    \n",
    "def on_decision(b):\n",
    "    if btn_decision.value != None and state['item']:\n",
    "        commit()\n",
    "        transition()\n",
    "\n",
    "btn_decision.observe(on_decision, names='value')\n",
    "transition()"
   ]
  },
  {
   "cell_type": "code",
   "execution_count": 128,
   "metadata": {},
   "outputs": [
    {
     "name": "stdout",
     "output_type": "stream",
     "text": [
      "                     Fact Type &        Explicit &      Reasonable &       Guessable &     Unjustified \\\\\n",
      "\\hline\\hline\n",
      "           \\texttt{given name} &            93.9 &             0.0 &             0.0 &             6.1 \\\\\n",
      "           \\texttt{occupation} &             2.2 &            46.7 &            35.6 &            15.6 \\\\\n",
      "          \\texttt{citizenship} &             6.7 &             6.7 &            20.0 &            66.7 \\\\\n",
      "        \\texttt{sex or gender} &             4.4 &            84.4 &             4.4 &             6.7 \\\\\n",
      "        \\texttt{date of birth} &             6.5 &             0.0 &             0.0 &            93.5 \\\\\n",
      "\\hline\n",
      "                     All Types &            23.9 &            27.0 &            11.7 &            37.4 \\\\\n"
     ]
    }
   ],
   "source": [
    "category_map = {\n",
    "    'explicit': 'explicit',\n",
    "    'justified': 'reasonable',\n",
    "    'guessable': 'guessable',\n",
    "    'not justified': 'unjustified',\n",
    "    'error': None\n",
    "}\n",
    "\n",
    "relation_counts = Counter()\n",
    "stats = defaultdict(Counter)\n",
    "with open(annotations_path, 'r') as f:\n",
    "    for line in f:\n",
    "        annotation = json.loads(line)\n",
    "        relation_counts[annotation['item']['relation']] += 1\n",
    "        if relation_counts[annotation['item']['relation']] <= MAX_SAMPLES_PER_RELATION:\n",
    "            decision = category_map[annotation['annotation']['decision']]\n",
    "            if decision is not None:\n",
    "                stats[annotation['item']['relation']][decision] += 1\n",
    "\n",
    "report_catgories = sorted(set(v for v in category_map.values() if v is not None), key=lambda c: list(category_map.values()).index(c))\n",
    "print('Fact Type'.rjust(30) + ' & ' + ' & '.join((r.title() + '').rjust(15) for r in report_catgories), '\\\\\\\\')\n",
    "print('\\\\hline\\\\hline')\n",
    "category_agg = defaultdict(int)\n",
    "category_totals = defaultdict(int)\n",
    "\n",
    "for relation, counts in stats.items():\n",
    "    report = relation.replace('<', '').replace('>', '').replace('_', ' ')\n",
    "    report = report.replace('country of ', '')\n",
    "    report = '\\\\texttt{' + report + '}'\n",
    "    report = report.rjust(30)\n",
    "    for c in report_catgories:\n",
    "        category_agg[c] += counts[c]\n",
    "        category_totals[c] += sum(counts.values())\n",
    "        report += ' & ' + ('%.1f' % (counts[c]*100 / sum(counts.values()))).rjust(15)\n",
    "    print(report + ' \\\\\\\\')\n",
    "print('\\\\hline')\n",
    "print('All Types'.rjust(30) + ' & ' + ' & '.join(\n",
    "    ('%.1f'%(category_agg[c]*100/category_totals[c])).rjust(15) for c in report_catgories) + ' \\\\\\\\')\n",
    "\n"
   ]
  },
  {
   "cell_type": "code",
   "execution_count": 5,
   "metadata": {},
   "outputs": [
    {
     "ename": "NameError",
     "evalue": "name 'data_path' is not defined",
     "output_type": "error",
     "traceback": [
      "\u001b[0;31m---------------------------------------------------------------------------\u001b[0m",
      "\u001b[0;31mNameError\u001b[0m                                 Traceback (most recent call last)",
      "\u001b[0;32m<ipython-input-5-2143259cfa22>\u001b[0m in \u001b[0;36m<module>\u001b[0;34m()\u001b[0m\n\u001b[1;32m      2\u001b[0m \u001b[0;34m\u001b[0m\u001b[0m\n\u001b[1;32m      3\u001b[0m \u001b[0mitems\u001b[0m \u001b[0;34m=\u001b[0m \u001b[0;34m[\u001b[0m\u001b[0;34m]\u001b[0m\u001b[0;34m\u001b[0m\u001b[0m\n\u001b[0;32m----> 4\u001b[0;31m \u001b[0;32mwith\u001b[0m \u001b[0mgzip\u001b[0m\u001b[0;34m.\u001b[0m\u001b[0mopen\u001b[0m\u001b[0;34m(\u001b[0m\u001b[0mos\u001b[0m\u001b[0;34m.\u001b[0m\u001b[0mpath\u001b[0m\u001b[0;34m.\u001b[0m\u001b[0mjoin\u001b[0m\u001b[0;34m(\u001b[0m\u001b[0mdata_path\u001b[0m\u001b[0;34m,\u001b[0m \u001b[0;34m'output.jsonl.gz'\u001b[0m\u001b[0;34m)\u001b[0m\u001b[0;34m,\u001b[0m \u001b[0;34m'rt'\u001b[0m\u001b[0;34m,\u001b[0m \u001b[0mencoding\u001b[0m\u001b[0;34m=\u001b[0m\u001b[0;34m'utf-8'\u001b[0m\u001b[0;34m)\u001b[0m \u001b[0;32mas\u001b[0m \u001b[0mf\u001b[0m\u001b[0;34m:\u001b[0m\u001b[0;34m\u001b[0m\u001b[0m\n\u001b[0m\u001b[1;32m      5\u001b[0m     \u001b[0;32mfor\u001b[0m \u001b[0mline\u001b[0m \u001b[0;32min\u001b[0m \u001b[0mtqdm\u001b[0m\u001b[0;34m(\u001b[0m\u001b[0mislice\u001b[0m\u001b[0;34m(\u001b[0m\u001b[0mf\u001b[0m\u001b[0;34m,\u001b[0m \u001b[0;36m1000\u001b[0m\u001b[0;34m)\u001b[0m\u001b[0;34m)\u001b[0m\u001b[0;34m:\u001b[0m\u001b[0;34m\u001b[0m\u001b[0m\n\u001b[1;32m      6\u001b[0m         \u001b[0mobj\u001b[0m \u001b[0;34m=\u001b[0m \u001b[0mjson\u001b[0m\u001b[0;34m.\u001b[0m\u001b[0mloads\u001b[0m\u001b[0;34m(\u001b[0m\u001b[0mline\u001b[0m\u001b[0;34m)\u001b[0m\u001b[0;34m\u001b[0m\u001b[0m\n",
      "\u001b[0;31mNameError\u001b[0m: name 'data_path' is not defined"
     ]
    }
   ],
   "source": [
    "from collections import Counter\n",
    "\n",
    "items = []\n",
    "with gzip.open(os.path.join(data_path, 'output.jsonl.gz'), 'rt', encoding='utf-8') as f:\n",
    "    for line in tqdm(islice(f, 1000)):\n",
    "        obj = json.loads(line)\n",
    "        source = random.choice(obj['decode']['sources'])\n",
    "        score = obj['decode']['decodes'][relation][0]['score']\n",
    "        for relation, target in obj['decode']['targets'].items():\n",
    "            system = ' '.join(takewhile(lambda t: t != '</s>', obj['decode']['decodes'][relation][0]['tokens']))\n",
    "            if relation_order.index(relation) < 5:\n",
    "                items.append((obj['instance_id'], source, relation, target, system, score))\n",
    "\n",
    "random.seed(1447)\n",
    "random.shuffle(items)"
   ]
  },
  {
   "cell_type": "code",
   "execution_count": 239,
   "metadata": {},
   "outputs": [],
   "source": [
    "items = sorted(items, key=lambda i: i[-1], reverse=True)"
   ]
  },
  {
   "cell_type": "code",
   "execution_count": 240,
   "metadata": {},
   "outputs": [
    {
     "data": {
      "text/plain": [
       "[('Clemo',\n",
       "  'the name was coined by | clemo | and popularized by kenyan rappers jua cali and nonini who started off at calif records , and is commonly sung in sheng ( slang ) , swahili',\n",
       "  '<country_of_citizenship>',\n",
       "  'kenya',\n",
       "  'japan',\n",
       "  0.0),\n",
       " ('William M. Gardner',\n",
       "  'fortunately for augustus , his commanding officer , captain | william m. gardner | , testified on his behalf and prevailed on the court to suspend the harsher penalties .',\n",
       "  '<sex_or_gender>',\n",
       "  'male',\n",
       "  'male',\n",
       "  0.0),\n",
       " ('Shafik Wazzan',\n",
       "  'from 1980 to 1982 , he served in the cabinet as minister of public works under president elias sarkis and prime minister | shafik wazzan | .',\n",
       "  '<date_of_birth>',\n",
       "  '1925 01 01',\n",
       "  '1928 01 01',\n",
       "  0.0),\n",
       " ('Zbigniew Beta',\n",
       "  '| zbigniew beta | \" \"',\n",
       "  '<sex_or_gender>',\n",
       "  'male',\n",
       "  'male',\n",
       "  0.0),\n",
       " ('Georges Foucart',\n",
       "  'he was the father of egyptologist | georges foucart | .',\n",
       "  '<sex_or_gender>',\n",
       "  'male',\n",
       "  'male',\n",
       "  0.0),\n",
       " ('Stephen Thomas (rugby player)',\n",
       "  'wales : billy bancroft ( swansea ) , tom pearson ( cardiff ) , dickie garrett ( penarth ) , charlie thomas ( newport ) , percy lloyd ( llanelli ) , evan james (',\n",
       "  '<date_of_birth>',\n",
       "  '1865 08 22',\n",
       "  '1878 01 01',\n",
       "  0.0),\n",
       " ('Daniel Curtis Lee',\n",
       "  'throughout the series , ned is played by devon werkheiser , cookie by | daniel curtis lee | , and lindsey shaw as moze .',\n",
       "  '<country_of_citizenship>',\n",
       "  'united states of america',\n",
       "  'united states of america',\n",
       "  0.0),\n",
       " ('Ashikaga Yoshinori',\n",
       "  'kamakura was finally attacked by shogun | ashikaga yoshinori | and retaken by force .',\n",
       "  '<occupation>',\n",
       "  'samurai',\n",
       "  'politician',\n",
       "  0.0),\n",
       " ('José Carlos Somoza',\n",
       "  'soto , norberto luis romero , care santos , | josé carlos somoza | , josé maría tamparillas , david torres , josé miguel vilar-bou and marian womack .',\n",
       "  '<occupation>',\n",
       "  'psychiatrist',\n",
       "  'painter',\n",
       "  0.0),\n",
       " ('George Fenneman',\n",
       "  '| george fenneman | was the announcer , and basil adlam led the orchestra .',\n",
       "  '<occupation>',\n",
       "  'actor',\n",
       "  'radio personality',\n",
       "  0.0)]"
      ]
     },
     "execution_count": 240,
     "metadata": {},
     "output_type": "execute_result"
    }
   ],
   "source": [
    "items[:10]"
   ]
  },
  {
   "cell_type": "code",
   "execution_count": 241,
   "metadata": {},
   "outputs": [
    {
     "name": "stdout",
     "output_type": "stream",
     "text": [
      "\t <sex_or_gender>\n",
      "\n",
      "fortunately for augustus , his commanding officer , captain | william m. gardner | , testified on his behalf and prevailed on the court to suspend the harsher penalties .\n",
      "\t male = male\n",
      "\n",
      "| zbigniew beta | \" \"\n",
      "\t male = male\n",
      "\n",
      "he was the father of egyptologist | georges foucart | .\n",
      "\t male = male\n",
      "\n",
      "prior to independence , he became minister of the interior , posts and telecommunications in 1976 , as part of the transitional government headed by | abdallah mohamed kamil | .\n",
      "\t male = male\n",
      "\n",
      "van hoolwerff , as helmsman on the dutch 8 metre \" hollandia \" , took the 2nd place with fellow crew members : | lambertus doedes | , henk kersken , cornelis van staveren , gerard\n",
      "\t male = male\n",
      "\n",
      "\t <date_of_birth>\n",
      "\n",
      "from 1980 to 1982 , he served in the cabinet as minister of public works under president elias sarkis and prime minister | shafik wazzan | .\n",
      "\t 1925 01 01 = 1928 01 01\n",
      "\n",
      "wales : billy bancroft ( swansea ) , tom pearson ( cardiff ) , dickie garrett ( penarth ) , charlie thomas ( newport ) , percy lloyd ( llanelli ) , evan james (\n",
      "\t 1865 08 22 = 1878 01 01\n",
      "\n",
      "captain boom is a filipino comic book character created by | mars ravelo | and illustrated by his son ric ravelo .\n",
      "\t 1916 10 09 = 1973 01 01\n",
      "\n",
      "douglas rain did the narration for the english version ; the french version was titled notre univers with narration by | gilles pelletier | .\n",
      "\t 1925 03 22 = 1959 01 01\n",
      "\n",
      "he was born in mt . morris , new york , younger brother to saxophonist pat labarbera , and trumpeter and arranger/composer | john labarbera | .\n",
      "\t 1945 11 10 = 1928 01 01\n",
      "\n",
      "\t <occupation>\n",
      "\n",
      "kamakura was finally attacked by shogun | ashikaga yoshinori | and retaken by force .\n",
      "\t samurai = politician\n",
      "\n",
      "soto , norberto luis romero , care santos , | josé carlos somoza | , josé maría tamparillas , david torres , josé miguel vilar-bou and marian womack .\n",
      "\t psychiatrist = painter\n",
      "\n",
      "| george fenneman | was the announcer , and basil adlam led the orchestra .\n",
      "\t actor = radio personality\n",
      "\n",
      "madani competed in men 's doubles at the 1979 us open where he partnered mike myburg but were beaten by | steve docherty | and john james in the first round .\n",
      "\t tennis player = tennis player\n",
      "\n",
      "in february 2016 , eight players signed as full-time players for the first time in the club 's history : emily simpkins , rhiannon roberts , | courtney sweetman-kirk | , natasha dowie , becky\n",
      "\t association football player = association football player\n",
      "\n",
      "\t <given_name>\n",
      "\n",
      "the current dean of carey business school is | bernard t. ferrari | .\n",
      "\t bernard = bernard\n",
      "\n",
      "brother of damien and | darren gaspar | .\n",
      "\t darren = darren\n",
      "\n",
      "professor of the moscow theological academy | a.i. osipov | analyzes the teaching on the prayer by st . ignatius ( brianchaninov ) and points out that the prayer should have three properties : attention\n",
      "\t alexei = constantin\n",
      "\n",
      "once again , the british government did not wish to entrust its interests in japan to a foreign officer , so the british chiefs of staff appointed air vice marshal | cecil bouchier | as\n",
      "\t cecil = cecil\n",
      "\n",
      "| michael faulds | of western mustangs was in sixth place just behind brannagan with 9,137 career passing yards and justin dunk , of the guelph gryphons was seventh with 9,093 passing yards .\n",
      "\t michael = michael\n",
      "\n",
      "\t <country_of_citizenship>\n",
      "\n",
      "the name was coined by | clemo | and popularized by kenyan rappers jua cali and nonini who started off at calif records , and is commonly sung in sheng ( slang ) , swahili\n",
      "\t kenya = japan\n",
      "\n",
      "throughout the series , ned is played by devon werkheiser , cookie by | daniel curtis lee | , and lindsey shaw as moze .\n",
      "\t united states of america = united states of america\n",
      "\n",
      "gohan is voiced in the original japanese anime and all other media by | masako nozawa | .\n",
      "\t japan = japan\n",
      "\n",
      "planned by | henric piccardt | ( 1636-1712 ) , lord of the manors of klein martijn at harkstede and the fraeylemaborg at slochteren , it was built by two master craftsmen from the city\n",
      "\t netherlands = germany\n",
      "\n",
      "polonora again led his team in scoring with a game-best 20 points , complemented by 15 points and 8 assists from andrea cinciarini whilst | jeff brooks | paced sassari with 18 points and 11\n",
      "\t united states of america = united states of america\n",
      "\n"
     ]
    }
   ],
   "source": [
    "for r in relation_order[:5]:\n",
    "    print('\\t', r)\n",
    "    print()\n",
    "    ris = [i for i in items if i[2] == r]\n",
    "    for i in ris[:5]:\n",
    "        print(i[1])\n",
    "        print('\\t', i[3], '=', i[4])\n",
    "        print()"
   ]
  },
  {
   "cell_type": "code",
   "execution_count": null,
   "metadata": {},
   "outputs": [],
   "source": []
  }
 ],
 "metadata": {
  "kernelspec": {
   "display_name": "mimo",
   "language": "python",
   "name": "mimo"
  },
  "language_info": {
   "codemirror_mode": {
    "name": "ipython",
    "version": 3
   },
   "file_extension": ".py",
   "mimetype": "text/x-python",
   "name": "python",
   "nbconvert_exporter": "python",
   "pygments_lexer": "ipython3",
   "version": "3.6.2"
  }
 },
 "nbformat": 4,
 "nbformat_minor": 2
}
